{
 "cells": [
  {
   "cell_type": "markdown",
   "id": "29492666-a5bf-416e-8d1b-1cd61539c518",
   "metadata": {},
   "source": [
    "# US School Analysis"
   ]
  },
  {
   "cell_type": "markdown",
   "id": "c64cbaad-1c75-4652-8376-e5e6c803e27d",
   "metadata": {},
   "source": [
    "## Start with imports and reading in your data"
   ]
  },
  {
   "cell_type": "code",
   "execution_count": 83,
   "id": "55db3a45-7d63-4920-b183-cd2aa521a8c0",
   "metadata": {},
   "outputs": [],
   "source": [
    "# Include all your imports here\n",
    "import pandas as pd\n",
    "from pathlib import Path\n",
    "%matplotlib inline\n",
    "import seaborn as sns"
   ]
  },
  {
   "cell_type": "code",
   "execution_count": 109,
   "id": "f4867586-65ce-46cd-b110-7ff6761ba4a5",
   "metadata": {},
   "outputs": [
    {
     "data": {
      "text/html": [
       "<div>\n",
       "<style scoped>\n",
       "    .dataframe tbody tr th:only-of-type {\n",
       "        vertical-align: middle;\n",
       "    }\n",
       "\n",
       "    .dataframe tbody tr th {\n",
       "        vertical-align: top;\n",
       "    }\n",
       "\n",
       "    .dataframe thead th {\n",
       "        text-align: right;\n",
       "    }\n",
       "</style>\n",
       "<table border=\"1\" class=\"dataframe\">\n",
       "  <thead>\n",
       "    <tr style=\"text-align: right;\">\n",
       "      <th></th>\n",
       "      <th>NCESSCH</th>\n",
       "      <th>LSTATE</th>\n",
       "      <th>SCHOOL_LEVEL</th>\n",
       "      <th>SCHOOL_TYPE_TEXT</th>\n",
       "      <th>TOTAL</th>\n",
       "      <th>FTE</th>\n",
       "      <th>STUTERATIO</th>\n",
       "      <th>AM</th>\n",
       "      <th>AS</th>\n",
       "      <th>BL</th>\n",
       "      <th>HP</th>\n",
       "      <th>HI</th>\n",
       "      <th>TR</th>\n",
       "      <th>WH</th>\n",
       "    </tr>\n",
       "  </thead>\n",
       "  <tbody>\n",
       "    <tr>\n",
       "      <th>0</th>\n",
       "      <td>10000500870</td>\n",
       "      <td>AL</td>\n",
       "      <td>Middle</td>\n",
       "      <td>Regular school</td>\n",
       "      <td>908.0</td>\n",
       "      <td>42.0</td>\n",
       "      <td>21.62</td>\n",
       "      <td>2.0</td>\n",
       "      <td>4.0</td>\n",
       "      <td>33.0</td>\n",
       "      <td>0.0</td>\n",
       "      <td>469.0</td>\n",
       "      <td>29.0</td>\n",
       "      <td>371.0</td>\n",
       "    </tr>\n",
       "    <tr>\n",
       "      <th>1</th>\n",
       "      <td>10000500871</td>\n",
       "      <td>AL</td>\n",
       "      <td>High</td>\n",
       "      <td>Regular school</td>\n",
       "      <td>1606.0</td>\n",
       "      <td>82.0</td>\n",
       "      <td>19.59</td>\n",
       "      <td>1.0</td>\n",
       "      <td>6.0</td>\n",
       "      <td>70.0</td>\n",
       "      <td>0.0</td>\n",
       "      <td>785.0</td>\n",
       "      <td>38.0</td>\n",
       "      <td>706.0</td>\n",
       "    </tr>\n",
       "    <tr>\n",
       "      <th>2</th>\n",
       "      <td>10000500879</td>\n",
       "      <td>AL</td>\n",
       "      <td>Middle</td>\n",
       "      <td>Regular school</td>\n",
       "      <td>891.0</td>\n",
       "      <td>41.0</td>\n",
       "      <td>21.73</td>\n",
       "      <td>4.0</td>\n",
       "      <td>7.0</td>\n",
       "      <td>24.0</td>\n",
       "      <td>1.0</td>\n",
       "      <td>481.0</td>\n",
       "      <td>29.0</td>\n",
       "      <td>345.0</td>\n",
       "    </tr>\n",
       "    <tr>\n",
       "      <th>3</th>\n",
       "      <td>10000500889</td>\n",
       "      <td>AL</td>\n",
       "      <td>Elementary</td>\n",
       "      <td>Regular school</td>\n",
       "      <td>908.0</td>\n",
       "      <td>49.0</td>\n",
       "      <td>18.53</td>\n",
       "      <td>4.0</td>\n",
       "      <td>4.0</td>\n",
       "      <td>48.0</td>\n",
       "      <td>0.0</td>\n",
       "      <td>497.0</td>\n",
       "      <td>15.0</td>\n",
       "      <td>340.0</td>\n",
       "    </tr>\n",
       "    <tr>\n",
       "      <th>4</th>\n",
       "      <td>10000501616</td>\n",
       "      <td>AL</td>\n",
       "      <td>Elementary</td>\n",
       "      <td>Regular school</td>\n",
       "      <td>556.0</td>\n",
       "      <td>30.0</td>\n",
       "      <td>18.53</td>\n",
       "      <td>4.0</td>\n",
       "      <td>2.0</td>\n",
       "      <td>33.0</td>\n",
       "      <td>0.0</td>\n",
       "      <td>288.0</td>\n",
       "      <td>13.0</td>\n",
       "      <td>216.0</td>\n",
       "    </tr>\n",
       "  </tbody>\n",
       "</table>\n",
       "</div>"
      ],
      "text/plain": [
       "       NCESSCH LSTATE SCHOOL_LEVEL SCHOOL_TYPE_TEXT   TOTAL   FTE  STUTERATIO  \\\n",
       "0  10000500870     AL       Middle   Regular school   908.0  42.0       21.62   \n",
       "1  10000500871     AL         High   Regular school  1606.0  82.0       19.59   \n",
       "2  10000500879     AL       Middle   Regular school   891.0  41.0       21.73   \n",
       "3  10000500889     AL   Elementary   Regular school   908.0  49.0       18.53   \n",
       "4  10000501616     AL   Elementary   Regular school   556.0  30.0       18.53   \n",
       "\n",
       "    AM   AS    BL   HP     HI    TR     WH  \n",
       "0  2.0  4.0  33.0  0.0  469.0  29.0  371.0  \n",
       "1  1.0  6.0  70.0  0.0  785.0  38.0  706.0  \n",
       "2  4.0  7.0  24.0  1.0  481.0  29.0  345.0  \n",
       "3  4.0  4.0  48.0  0.0  497.0  15.0  340.0  \n",
       "4  4.0  2.0  33.0  0.0  288.0  13.0  216.0  "
      ]
     },
     "execution_count": 109,
     "metadata": {},
     "output_type": "execute_result"
    }
   ],
   "source": [
    "# Load the Public school dataset\n",
    "path1 = Path('Resources/public_school_data.csv')\n",
    "data = pd.read_csv(path1)\n",
    "data.head()"
   ]
  },
  {
   "cell_type": "code",
   "execution_count": 110,
   "id": "ab574b7a-d060-4efb-9507-541e1082fa72",
   "metadata": {},
   "outputs": [
    {
     "data": {
      "text/html": [
       "<div>\n",
       "<style scoped>\n",
       "    .dataframe tbody tr th:only-of-type {\n",
       "        vertical-align: middle;\n",
       "    }\n",
       "\n",
       "    .dataframe tbody tr th {\n",
       "        vertical-align: top;\n",
       "    }\n",
       "\n",
       "    .dataframe thead th {\n",
       "        text-align: right;\n",
       "    }\n",
       "</style>\n",
       "<table border=\"1\" class=\"dataframe\">\n",
       "  <thead>\n",
       "    <tr style=\"text-align: right;\">\n",
       "      <th></th>\n",
       "      <th>ID</th>\n",
       "      <th>LATCOD</th>\n",
       "      <th>LONCOD</th>\n",
       "    </tr>\n",
       "  </thead>\n",
       "  <tbody>\n",
       "    <tr>\n",
       "      <th>0</th>\n",
       "      <td>10000500870</td>\n",
       "      <td>34.2602</td>\n",
       "      <td>-86.206200</td>\n",
       "    </tr>\n",
       "    <tr>\n",
       "      <th>1</th>\n",
       "      <td>10000500871</td>\n",
       "      <td>34.2622</td>\n",
       "      <td>-86.204900</td>\n",
       "    </tr>\n",
       "    <tr>\n",
       "      <th>2</th>\n",
       "      <td>10000500879</td>\n",
       "      <td>34.2733</td>\n",
       "      <td>-86.220100</td>\n",
       "    </tr>\n",
       "    <tr>\n",
       "      <th>3</th>\n",
       "      <td>10000500889</td>\n",
       "      <td>34.2527</td>\n",
       "      <td>-86.221806</td>\n",
       "    </tr>\n",
       "    <tr>\n",
       "      <th>4</th>\n",
       "      <td>10000501616</td>\n",
       "      <td>34.2898</td>\n",
       "      <td>-86.193300</td>\n",
       "    </tr>\n",
       "  </tbody>\n",
       "</table>\n",
       "</div>"
      ],
      "text/plain": [
       "            ID   LATCOD     LONCOD\n",
       "0  10000500870  34.2602 -86.206200\n",
       "1  10000500871  34.2622 -86.204900\n",
       "2  10000500879  34.2733 -86.220100\n",
       "3  10000500889  34.2527 -86.221806\n",
       "4  10000501616  34.2898 -86.193300"
      ]
     },
     "execution_count": 110,
     "metadata": {},
     "output_type": "execute_result"
    }
   ],
   "source": [
    "# Load the Public school locations dataset\n",
    "path2 = Path('Resources/public_school_locations.csv')\n",
    "locations = pd.read_csv(path2)\n",
    "locations.head()\n"
   ]
  },
  {
   "cell_type": "code",
   "execution_count": 86,
   "id": "9321098c-24d5-4349-9a0d-834d57dab400",
   "metadata": {},
   "outputs": [
    {
     "data": {
      "text/html": [
       "<div>\n",
       "<style scoped>\n",
       "    .dataframe tbody tr th:only-of-type {\n",
       "        vertical-align: middle;\n",
       "    }\n",
       "\n",
       "    .dataframe tbody tr th {\n",
       "        vertical-align: top;\n",
       "    }\n",
       "\n",
       "    .dataframe thead th {\n",
       "        text-align: right;\n",
       "    }\n",
       "</style>\n",
       "<table border=\"1\" class=\"dataframe\">\n",
       "  <thead>\n",
       "    <tr style=\"text-align: right;\">\n",
       "      <th></th>\n",
       "      <th>Fields</th>\n",
       "      <th>Field Descriptions</th>\n",
       "    </tr>\n",
       "  </thead>\n",
       "  <tbody>\n",
       "    <tr>\n",
       "      <th>0</th>\n",
       "      <td>OBJECTID</td>\n",
       "      <td>OBJECTID</td>\n",
       "    </tr>\n",
       "    <tr>\n",
       "      <th>1</th>\n",
       "      <td>Shape</td>\n",
       "      <td>Shape</td>\n",
       "    </tr>\n",
       "    <tr>\n",
       "      <th>2</th>\n",
       "      <td>NCESSCH</td>\n",
       "      <td>Unique School ID</td>\n",
       "    </tr>\n",
       "    <tr>\n",
       "      <th>3</th>\n",
       "      <td>SURVYEAR</td>\n",
       "      <td>Year corresponding to survey record</td>\n",
       "    </tr>\n",
       "    <tr>\n",
       "      <th>4</th>\n",
       "      <td>STABR</td>\n",
       "      <td>Postal state abbreviation code</td>\n",
       "    </tr>\n",
       "  </tbody>\n",
       "</table>\n",
       "</div>"
      ],
      "text/plain": [
       "     Fields                   Field Descriptions\n",
       "0  OBJECTID                             OBJECTID\n",
       "1     Shape                                Shape\n",
       "2   NCESSCH                     Unique School ID\n",
       "3  SURVYEAR  Year corresponding to survey record\n",
       "4     STABR       Postal state abbreviation code"
      ]
     },
     "execution_count": 86,
     "metadata": {},
     "output_type": "execute_result"
    }
   ],
   "source": [
    "# Load the Public school data dictionary file\n",
    "path3 = Path('Resources/school_data_dictionary.csv')\n",
    "dictionary = pd.read_csv(path3)\n",
    "dictionary.head()\n"
   ]
  },
  {
   "cell_type": "markdown",
   "id": "9b5c714d-1c47-4532-b349-f31018c2ee7e",
   "metadata": {},
   "source": [
    "## Data Exploration and Preparation"
   ]
  },
  {
   "cell_type": "code",
   "execution_count": 87,
   "id": "07b2ff0a-a818-4f2e-b115-2c23ebdb7347",
   "metadata": {},
   "outputs": [
    {
     "data": {
      "text/html": [
       "<div>\n",
       "<style scoped>\n",
       "    .dataframe tbody tr th:only-of-type {\n",
       "        vertical-align: middle;\n",
       "    }\n",
       "\n",
       "    .dataframe tbody tr th {\n",
       "        vertical-align: top;\n",
       "    }\n",
       "\n",
       "    .dataframe thead th {\n",
       "        text-align: right;\n",
       "    }\n",
       "</style>\n",
       "<table border=\"1\" class=\"dataframe\">\n",
       "  <thead>\n",
       "    <tr style=\"text-align: right;\">\n",
       "      <th></th>\n",
       "      <th>Fields</th>\n",
       "      <th>Field Descriptions</th>\n",
       "    </tr>\n",
       "  </thead>\n",
       "  <tbody>\n",
       "    <tr>\n",
       "      <th>2</th>\n",
       "      <td>NCESSCH</td>\n",
       "      <td>Unique School ID</td>\n",
       "    </tr>\n",
       "    <tr>\n",
       "      <th>12</th>\n",
       "      <td>LSTATE</td>\n",
       "      <td>Location state</td>\n",
       "    </tr>\n",
       "    <tr>\n",
       "      <th>21</th>\n",
       "      <td>SCHOOL_LEVEL</td>\n",
       "      <td>School level</td>\n",
       "    </tr>\n",
       "    <tr>\n",
       "      <th>25</th>\n",
       "      <td>SCHOOL_TYPE_TEXT</td>\n",
       "      <td>School type (description)</td>\n",
       "    </tr>\n",
       "    <tr>\n",
       "      <th>51</th>\n",
       "      <td>TOTAL</td>\n",
       "      <td>Total students all grades (includes AE)</td>\n",
       "    </tr>\n",
       "    <tr>\n",
       "      <th>53</th>\n",
       "      <td>FTE</td>\n",
       "      <td>Total Teachers</td>\n",
       "    </tr>\n",
       "    <tr>\n",
       "      <th>54</th>\n",
       "      <td>STUTERATIO</td>\n",
       "      <td>Student teacher ratio</td>\n",
       "    </tr>\n",
       "    <tr>\n",
       "      <th>57</th>\n",
       "      <td>AM</td>\n",
       "      <td>All Students - American Indian/Alaska Native</td>\n",
       "    </tr>\n",
       "    <tr>\n",
       "      <th>60</th>\n",
       "      <td>AS</td>\n",
       "      <td>All Students - Asian</td>\n",
       "    </tr>\n",
       "    <tr>\n",
       "      <th>63</th>\n",
       "      <td>BL</td>\n",
       "      <td>All Students - Black or African American</td>\n",
       "    </tr>\n",
       "    <tr>\n",
       "      <th>66</th>\n",
       "      <td>HP</td>\n",
       "      <td>All Students - Native Hawai'ian or Other Pacif...</td>\n",
       "    </tr>\n",
       "    <tr>\n",
       "      <th>69</th>\n",
       "      <td>HI</td>\n",
       "      <td>All Students - Hispanic</td>\n",
       "    </tr>\n",
       "    <tr>\n",
       "      <th>72</th>\n",
       "      <td>TR</td>\n",
       "      <td>All Students - Two or More Races</td>\n",
       "    </tr>\n",
       "    <tr>\n",
       "      <th>75</th>\n",
       "      <td>WH</td>\n",
       "      <td>All Students - White</td>\n",
       "    </tr>\n",
       "  </tbody>\n",
       "</table>\n",
       "</div>"
      ],
      "text/plain": [
       "              Fields                                 Field Descriptions\n",
       "2            NCESSCH                                   Unique School ID\n",
       "12            LSTATE                                     Location state\n",
       "21      SCHOOL_LEVEL                                       School level\n",
       "25  SCHOOL_TYPE_TEXT                          School type (description)\n",
       "51             TOTAL            Total students all grades (includes AE)\n",
       "53               FTE                                     Total Teachers\n",
       "54        STUTERATIO                              Student teacher ratio\n",
       "57                AM       All Students - American Indian/Alaska Native\n",
       "60                AS                               All Students - Asian\n",
       "63                BL           All Students - Black or African American\n",
       "66                HP  All Students - Native Hawai'ian or Other Pacif...\n",
       "69                HI                            All Students - Hispanic\n",
       "72                TR                   All Students - Two or More Races\n",
       "75                WH                               All Students - White"
      ]
     },
     "execution_count": 87,
     "metadata": {},
     "output_type": "execute_result"
    }
   ],
   "source": [
    "# Use an .isin() function to keep only fields that appear in the main public_school_data.csv and identify the unique id column \n",
    "dictionary = dictionary[dictionary[\"Fields\"].isin(data.columns)]\n",
    "dictionary.head(25)\n"
   ]
  },
  {
   "cell_type": "code",
   "execution_count": 88,
   "id": "88e8adad-acf9-4364-abbd-fc0f58478867",
   "metadata": {},
   "outputs": [
    {
     "data": {
      "text/plain": [
       "array([ 10000500870,  10000500871,  10000500879, ..., 780003000027,\n",
       "       780003000033, 780003000034], dtype=int64)"
      ]
     },
     "execution_count": 88,
     "metadata": {},
     "output_type": "execute_result"
    }
   ],
   "source": [
    "# Ensuring the selected column \n",
    "is indeed a unique identifier by checking the number of uniqe values and comparing it to the number of rows in the dataframe\n",
    "data[\"NCESSCH\"].unique()\n",
    "locations[\"ID\"].unique()\n",
    "\n"
   ]
  },
  {
   "cell_type": "code",
   "execution_count": 111,
   "id": "b5895fe0-a0d2-4df1-b5f1-6a8ed3a8a3b0",
   "metadata": {},
   "outputs": [],
   "source": [
    "# Changing the names of the unique ID column in both the location data and public school data to match and set them as index\n",
    "data = data.rename(columns={'NCESSCH': 'ID'})\n",
    "data.set_index(data['ID'], inplace=True)\n",
    "locations.set_index(locations['ID'], inplace=True)\n",
    "\n",
    "data = data.drop('ID', axis=1)\n"
   ]
  },
  {
   "cell_type": "code",
   "execution_count": 112,
   "id": "518cefb0-fec0-4c66-9d6f-1ecf6196acfc",
   "metadata": {},
   "outputs": [
    {
     "data": {
      "text/html": [
       "<div>\n",
       "<style scoped>\n",
       "    .dataframe tbody tr th:only-of-type {\n",
       "        vertical-align: middle;\n",
       "    }\n",
       "\n",
       "    .dataframe tbody tr th {\n",
       "        vertical-align: top;\n",
       "    }\n",
       "\n",
       "    .dataframe thead th {\n",
       "        text-align: right;\n",
       "    }\n",
       "</style>\n",
       "<table border=\"1\" class=\"dataframe\">\n",
       "  <thead>\n",
       "    <tr style=\"text-align: right;\">\n",
       "      <th></th>\n",
       "      <th>LSTATE</th>\n",
       "      <th>SCHOOL_LEVEL</th>\n",
       "      <th>SCHOOL_TYPE_TEXT</th>\n",
       "      <th>TOTAL</th>\n",
       "      <th>FTE</th>\n",
       "      <th>STUTERATIO</th>\n",
       "      <th>AM</th>\n",
       "      <th>AS</th>\n",
       "      <th>BL</th>\n",
       "      <th>HP</th>\n",
       "      <th>HI</th>\n",
       "      <th>TR</th>\n",
       "      <th>WH</th>\n",
       "    </tr>\n",
       "    <tr>\n",
       "      <th>ID</th>\n",
       "      <th></th>\n",
       "      <th></th>\n",
       "      <th></th>\n",
       "      <th></th>\n",
       "      <th></th>\n",
       "      <th></th>\n",
       "      <th></th>\n",
       "      <th></th>\n",
       "      <th></th>\n",
       "      <th></th>\n",
       "      <th></th>\n",
       "      <th></th>\n",
       "      <th></th>\n",
       "    </tr>\n",
       "  </thead>\n",
       "  <tbody>\n",
       "    <tr>\n",
       "      <th>10000500870</th>\n",
       "      <td>AL</td>\n",
       "      <td>Middle</td>\n",
       "      <td>Regular school</td>\n",
       "      <td>908.0</td>\n",
       "      <td>42.0</td>\n",
       "      <td>21.62</td>\n",
       "      <td>2.0</td>\n",
       "      <td>4.0</td>\n",
       "      <td>33.0</td>\n",
       "      <td>0.0</td>\n",
       "      <td>469.0</td>\n",
       "      <td>29.0</td>\n",
       "      <td>371.0</td>\n",
       "    </tr>\n",
       "    <tr>\n",
       "      <th>10000500871</th>\n",
       "      <td>AL</td>\n",
       "      <td>High</td>\n",
       "      <td>Regular school</td>\n",
       "      <td>1606.0</td>\n",
       "      <td>82.0</td>\n",
       "      <td>19.59</td>\n",
       "      <td>1.0</td>\n",
       "      <td>6.0</td>\n",
       "      <td>70.0</td>\n",
       "      <td>0.0</td>\n",
       "      <td>785.0</td>\n",
       "      <td>38.0</td>\n",
       "      <td>706.0</td>\n",
       "    </tr>\n",
       "    <tr>\n",
       "      <th>10000500879</th>\n",
       "      <td>AL</td>\n",
       "      <td>Middle</td>\n",
       "      <td>Regular school</td>\n",
       "      <td>891.0</td>\n",
       "      <td>41.0</td>\n",
       "      <td>21.73</td>\n",
       "      <td>4.0</td>\n",
       "      <td>7.0</td>\n",
       "      <td>24.0</td>\n",
       "      <td>1.0</td>\n",
       "      <td>481.0</td>\n",
       "      <td>29.0</td>\n",
       "      <td>345.0</td>\n",
       "    </tr>\n",
       "    <tr>\n",
       "      <th>10000500889</th>\n",
       "      <td>AL</td>\n",
       "      <td>Elementary</td>\n",
       "      <td>Regular school</td>\n",
       "      <td>908.0</td>\n",
       "      <td>49.0</td>\n",
       "      <td>18.53</td>\n",
       "      <td>4.0</td>\n",
       "      <td>4.0</td>\n",
       "      <td>48.0</td>\n",
       "      <td>0.0</td>\n",
       "      <td>497.0</td>\n",
       "      <td>15.0</td>\n",
       "      <td>340.0</td>\n",
       "    </tr>\n",
       "    <tr>\n",
       "      <th>10000501616</th>\n",
       "      <td>AL</td>\n",
       "      <td>Elementary</td>\n",
       "      <td>Regular school</td>\n",
       "      <td>556.0</td>\n",
       "      <td>30.0</td>\n",
       "      <td>18.53</td>\n",
       "      <td>4.0</td>\n",
       "      <td>2.0</td>\n",
       "      <td>33.0</td>\n",
       "      <td>0.0</td>\n",
       "      <td>288.0</td>\n",
       "      <td>13.0</td>\n",
       "      <td>216.0</td>\n",
       "    </tr>\n",
       "  </tbody>\n",
       "</table>\n",
       "</div>"
      ],
      "text/plain": [
       "            LSTATE SCHOOL_LEVEL SCHOOL_TYPE_TEXT   TOTAL   FTE  STUTERATIO  \\\n",
       "ID                                                                           \n",
       "10000500870     AL       Middle   Regular school   908.0  42.0       21.62   \n",
       "10000500871     AL         High   Regular school  1606.0  82.0       19.59   \n",
       "10000500879     AL       Middle   Regular school   891.0  41.0       21.73   \n",
       "10000500889     AL   Elementary   Regular school   908.0  49.0       18.53   \n",
       "10000501616     AL   Elementary   Regular school   556.0  30.0       18.53   \n",
       "\n",
       "              AM   AS    BL   HP     HI    TR     WH  \n",
       "ID                                                    \n",
       "10000500870  2.0  4.0  33.0  0.0  469.0  29.0  371.0  \n",
       "10000500871  1.0  6.0  70.0  0.0  785.0  38.0  706.0  \n",
       "10000500879  4.0  7.0  24.0  1.0  481.0  29.0  345.0  \n",
       "10000500889  4.0  4.0  48.0  0.0  497.0  15.0  340.0  \n",
       "10000501616  4.0  2.0  33.0  0.0  288.0  13.0  216.0  "
      ]
     },
     "execution_count": 112,
     "metadata": {},
     "output_type": "execute_result"
    }
   ],
   "source": [
    "# Checking work\n",
    "data.head()"
   ]
  },
  {
   "cell_type": "code",
   "execution_count": 91,
   "id": "b8fd0a6d-1c51-4db7-b7b9-8cb2e2c0b879",
   "metadata": {},
   "outputs": [
    {
     "data": {
      "text/html": [
       "<div>\n",
       "<style scoped>\n",
       "    .dataframe tbody tr th:only-of-type {\n",
       "        vertical-align: middle;\n",
       "    }\n",
       "\n",
       "    .dataframe tbody tr th {\n",
       "        vertical-align: top;\n",
       "    }\n",
       "\n",
       "    .dataframe thead th {\n",
       "        text-align: right;\n",
       "    }\n",
       "</style>\n",
       "<table border=\"1\" class=\"dataframe\">\n",
       "  <thead>\n",
       "    <tr style=\"text-align: right;\">\n",
       "      <th></th>\n",
       "      <th>ID</th>\n",
       "      <th>LATCOD</th>\n",
       "      <th>LONCOD</th>\n",
       "    </tr>\n",
       "    <tr>\n",
       "      <th>ID</th>\n",
       "      <th></th>\n",
       "      <th></th>\n",
       "      <th></th>\n",
       "    </tr>\n",
       "  </thead>\n",
       "  <tbody>\n",
       "    <tr>\n",
       "      <th>10000500870</th>\n",
       "      <td>10000500870</td>\n",
       "      <td>34.2602</td>\n",
       "      <td>-86.206200</td>\n",
       "    </tr>\n",
       "    <tr>\n",
       "      <th>10000500871</th>\n",
       "      <td>10000500871</td>\n",
       "      <td>34.2622</td>\n",
       "      <td>-86.204900</td>\n",
       "    </tr>\n",
       "    <tr>\n",
       "      <th>10000500879</th>\n",
       "      <td>10000500879</td>\n",
       "      <td>34.2733</td>\n",
       "      <td>-86.220100</td>\n",
       "    </tr>\n",
       "    <tr>\n",
       "      <th>10000500889</th>\n",
       "      <td>10000500889</td>\n",
       "      <td>34.2527</td>\n",
       "      <td>-86.221806</td>\n",
       "    </tr>\n",
       "    <tr>\n",
       "      <th>10000501616</th>\n",
       "      <td>10000501616</td>\n",
       "      <td>34.2898</td>\n",
       "      <td>-86.193300</td>\n",
       "    </tr>\n",
       "  </tbody>\n",
       "</table>\n",
       "</div>"
      ],
      "text/plain": [
       "                      ID   LATCOD     LONCOD\n",
       "ID                                          \n",
       "10000500870  10000500870  34.2602 -86.206200\n",
       "10000500871  10000500871  34.2622 -86.204900\n",
       "10000500879  10000500879  34.2733 -86.220100\n",
       "10000500889  10000500889  34.2527 -86.221806\n",
       "10000501616  10000501616  34.2898 -86.193300"
      ]
     },
     "execution_count": 91,
     "metadata": {},
     "output_type": "execute_result"
    }
   ],
   "source": [
    "# Checking work\n",
    "locations.head()"
   ]
  },
  {
   "cell_type": "code",
   "execution_count": 113,
   "id": "fe362bf6-9829-4c19-929b-a255ad8a004f",
   "metadata": {},
   "outputs": [
    {
     "data": {
      "text/html": [
       "<div>\n",
       "<style scoped>\n",
       "    .dataframe tbody tr th:only-of-type {\n",
       "        vertical-align: middle;\n",
       "    }\n",
       "\n",
       "    .dataframe tbody tr th {\n",
       "        vertical-align: top;\n",
       "    }\n",
       "\n",
       "    .dataframe thead th {\n",
       "        text-align: right;\n",
       "    }\n",
       "</style>\n",
       "<table border=\"1\" class=\"dataframe\">\n",
       "  <thead>\n",
       "    <tr style=\"text-align: right;\">\n",
       "      <th></th>\n",
       "      <th>LSTATE</th>\n",
       "      <th>SCHOOL_LEVEL</th>\n",
       "      <th>SCHOOL_TYPE_TEXT</th>\n",
       "      <th>TOTAL</th>\n",
       "      <th>FTE</th>\n",
       "      <th>STUTERATIO</th>\n",
       "      <th>AM</th>\n",
       "      <th>AS</th>\n",
       "      <th>BL</th>\n",
       "      <th>HP</th>\n",
       "      <th>HI</th>\n",
       "      <th>TR</th>\n",
       "      <th>WH</th>\n",
       "      <th>ID</th>\n",
       "      <th>LATCOD</th>\n",
       "      <th>LONCOD</th>\n",
       "    </tr>\n",
       "    <tr>\n",
       "      <th>ID</th>\n",
       "      <th></th>\n",
       "      <th></th>\n",
       "      <th></th>\n",
       "      <th></th>\n",
       "      <th></th>\n",
       "      <th></th>\n",
       "      <th></th>\n",
       "      <th></th>\n",
       "      <th></th>\n",
       "      <th></th>\n",
       "      <th></th>\n",
       "      <th></th>\n",
       "      <th></th>\n",
       "      <th></th>\n",
       "      <th></th>\n",
       "      <th></th>\n",
       "    </tr>\n",
       "  </thead>\n",
       "  <tbody>\n",
       "    <tr>\n",
       "      <th>10000500870</th>\n",
       "      <td>AL</td>\n",
       "      <td>Middle</td>\n",
       "      <td>Regular school</td>\n",
       "      <td>908.0</td>\n",
       "      <td>42.0</td>\n",
       "      <td>21.62</td>\n",
       "      <td>2.0</td>\n",
       "      <td>4.0</td>\n",
       "      <td>33.0</td>\n",
       "      <td>0.0</td>\n",
       "      <td>469.0</td>\n",
       "      <td>29.0</td>\n",
       "      <td>371.0</td>\n",
       "      <td>10000500870</td>\n",
       "      <td>34.260200</td>\n",
       "      <td>-86.206200</td>\n",
       "    </tr>\n",
       "    <tr>\n",
       "      <th>10000500871</th>\n",
       "      <td>AL</td>\n",
       "      <td>High</td>\n",
       "      <td>Regular school</td>\n",
       "      <td>1606.0</td>\n",
       "      <td>82.0</td>\n",
       "      <td>19.59</td>\n",
       "      <td>1.0</td>\n",
       "      <td>6.0</td>\n",
       "      <td>70.0</td>\n",
       "      <td>0.0</td>\n",
       "      <td>785.0</td>\n",
       "      <td>38.0</td>\n",
       "      <td>706.0</td>\n",
       "      <td>10000500871</td>\n",
       "      <td>34.262200</td>\n",
       "      <td>-86.204900</td>\n",
       "    </tr>\n",
       "    <tr>\n",
       "      <th>10000500879</th>\n",
       "      <td>AL</td>\n",
       "      <td>Middle</td>\n",
       "      <td>Regular school</td>\n",
       "      <td>891.0</td>\n",
       "      <td>41.0</td>\n",
       "      <td>21.73</td>\n",
       "      <td>4.0</td>\n",
       "      <td>7.0</td>\n",
       "      <td>24.0</td>\n",
       "      <td>1.0</td>\n",
       "      <td>481.0</td>\n",
       "      <td>29.0</td>\n",
       "      <td>345.0</td>\n",
       "      <td>10000500879</td>\n",
       "      <td>34.273300</td>\n",
       "      <td>-86.220100</td>\n",
       "    </tr>\n",
       "    <tr>\n",
       "      <th>10000500889</th>\n",
       "      <td>AL</td>\n",
       "      <td>Elementary</td>\n",
       "      <td>Regular school</td>\n",
       "      <td>908.0</td>\n",
       "      <td>49.0</td>\n",
       "      <td>18.53</td>\n",
       "      <td>4.0</td>\n",
       "      <td>4.0</td>\n",
       "      <td>48.0</td>\n",
       "      <td>0.0</td>\n",
       "      <td>497.0</td>\n",
       "      <td>15.0</td>\n",
       "      <td>340.0</td>\n",
       "      <td>10000500889</td>\n",
       "      <td>34.252700</td>\n",
       "      <td>-86.221806</td>\n",
       "    </tr>\n",
       "    <tr>\n",
       "      <th>10000501616</th>\n",
       "      <td>AL</td>\n",
       "      <td>Elementary</td>\n",
       "      <td>Regular school</td>\n",
       "      <td>556.0</td>\n",
       "      <td>30.0</td>\n",
       "      <td>18.53</td>\n",
       "      <td>4.0</td>\n",
       "      <td>2.0</td>\n",
       "      <td>33.0</td>\n",
       "      <td>0.0</td>\n",
       "      <td>288.0</td>\n",
       "      <td>13.0</td>\n",
       "      <td>216.0</td>\n",
       "      <td>10000501616</td>\n",
       "      <td>34.289800</td>\n",
       "      <td>-86.193300</td>\n",
       "    </tr>\n",
       "    <tr>\n",
       "      <th>...</th>\n",
       "      <td>...</td>\n",
       "      <td>...</td>\n",
       "      <td>...</td>\n",
       "      <td>...</td>\n",
       "      <td>...</td>\n",
       "      <td>...</td>\n",
       "      <td>...</td>\n",
       "      <td>...</td>\n",
       "      <td>...</td>\n",
       "      <td>...</td>\n",
       "      <td>...</td>\n",
       "      <td>...</td>\n",
       "      <td>...</td>\n",
       "      <td>...</td>\n",
       "      <td>...</td>\n",
       "      <td>...</td>\n",
       "    </tr>\n",
       "    <tr>\n",
       "      <th>780003000024</th>\n",
       "      <td>VI</td>\n",
       "      <td>Elementary</td>\n",
       "      <td>Regular school</td>\n",
       "      <td>328.0</td>\n",
       "      <td>26.0</td>\n",
       "      <td>12.62</td>\n",
       "      <td>NaN</td>\n",
       "      <td>7.0</td>\n",
       "      <td>254.0</td>\n",
       "      <td>NaN</td>\n",
       "      <td>59.0</td>\n",
       "      <td>2.0</td>\n",
       "      <td>6.0</td>\n",
       "      <td>780003000024</td>\n",
       "      <td>18.341950</td>\n",
       "      <td>-64.917602</td>\n",
       "    </tr>\n",
       "    <tr>\n",
       "      <th>780003000026</th>\n",
       "      <td>VI</td>\n",
       "      <td>Elementary</td>\n",
       "      <td>Regular school</td>\n",
       "      <td>477.0</td>\n",
       "      <td>25.0</td>\n",
       "      <td>19.08</td>\n",
       "      <td>1.0</td>\n",
       "      <td>4.0</td>\n",
       "      <td>394.0</td>\n",
       "      <td>2.0</td>\n",
       "      <td>64.0</td>\n",
       "      <td>3.0</td>\n",
       "      <td>9.0</td>\n",
       "      <td>780003000026</td>\n",
       "      <td>18.338742</td>\n",
       "      <td>-64.952483</td>\n",
       "    </tr>\n",
       "    <tr>\n",
       "      <th>780003000027</th>\n",
       "      <td>VI</td>\n",
       "      <td>Elementary</td>\n",
       "      <td>Regular school</td>\n",
       "      <td>397.0</td>\n",
       "      <td>29.0</td>\n",
       "      <td>13.69</td>\n",
       "      <td>1.0</td>\n",
       "      <td>7.0</td>\n",
       "      <td>322.0</td>\n",
       "      <td>1.0</td>\n",
       "      <td>57.0</td>\n",
       "      <td>NaN</td>\n",
       "      <td>9.0</td>\n",
       "      <td>780003000027</td>\n",
       "      <td>18.354782</td>\n",
       "      <td>-64.899024</td>\n",
       "    </tr>\n",
       "    <tr>\n",
       "      <th>780003000033</th>\n",
       "      <td>VI</td>\n",
       "      <td>Middle</td>\n",
       "      <td>Regular school</td>\n",
       "      <td>763.0</td>\n",
       "      <td>62.0</td>\n",
       "      <td>12.31</td>\n",
       "      <td>1.0</td>\n",
       "      <td>7.0</td>\n",
       "      <td>583.0</td>\n",
       "      <td>NaN</td>\n",
       "      <td>153.0</td>\n",
       "      <td>1.0</td>\n",
       "      <td>18.0</td>\n",
       "      <td>780003000033</td>\n",
       "      <td>18.336658</td>\n",
       "      <td>-64.945940</td>\n",
       "    </tr>\n",
       "    <tr>\n",
       "      <th>780003000034</th>\n",
       "      <td>VI</td>\n",
       "      <td>Middle</td>\n",
       "      <td>Regular school</td>\n",
       "      <td>577.0</td>\n",
       "      <td>47.0</td>\n",
       "      <td>12.28</td>\n",
       "      <td>NaN</td>\n",
       "      <td>4.0</td>\n",
       "      <td>516.0</td>\n",
       "      <td>NaN</td>\n",
       "      <td>55.0</td>\n",
       "      <td>NaN</td>\n",
       "      <td>2.0</td>\n",
       "      <td>780003000034</td>\n",
       "      <td>18.318230</td>\n",
       "      <td>-64.890311</td>\n",
       "    </tr>\n",
       "  </tbody>\n",
       "</table>\n",
       "<p>100722 rows × 16 columns</p>\n",
       "</div>"
      ],
      "text/plain": [
       "             LSTATE SCHOOL_LEVEL SCHOOL_TYPE_TEXT   TOTAL   FTE  STUTERATIO  \\\n",
       "ID                                                                            \n",
       "10000500870      AL       Middle   Regular school   908.0  42.0       21.62   \n",
       "10000500871      AL         High   Regular school  1606.0  82.0       19.59   \n",
       "10000500879      AL       Middle   Regular school   891.0  41.0       21.73   \n",
       "10000500889      AL   Elementary   Regular school   908.0  49.0       18.53   \n",
       "10000501616      AL   Elementary   Regular school   556.0  30.0       18.53   \n",
       "...             ...          ...              ...     ...   ...         ...   \n",
       "780003000024     VI   Elementary   Regular school   328.0  26.0       12.62   \n",
       "780003000026     VI   Elementary   Regular school   477.0  25.0       19.08   \n",
       "780003000027     VI   Elementary   Regular school   397.0  29.0       13.69   \n",
       "780003000033     VI       Middle   Regular school   763.0  62.0       12.31   \n",
       "780003000034     VI       Middle   Regular school   577.0  47.0       12.28   \n",
       "\n",
       "               AM   AS     BL   HP     HI    TR     WH            ID  \\\n",
       "ID                                                                     \n",
       "10000500870   2.0  4.0   33.0  0.0  469.0  29.0  371.0   10000500870   \n",
       "10000500871   1.0  6.0   70.0  0.0  785.0  38.0  706.0   10000500871   \n",
       "10000500879   4.0  7.0   24.0  1.0  481.0  29.0  345.0   10000500879   \n",
       "10000500889   4.0  4.0   48.0  0.0  497.0  15.0  340.0   10000500889   \n",
       "10000501616   4.0  2.0   33.0  0.0  288.0  13.0  216.0   10000501616   \n",
       "...           ...  ...    ...  ...    ...   ...    ...           ...   \n",
       "780003000024  NaN  7.0  254.0  NaN   59.0   2.0    6.0  780003000024   \n",
       "780003000026  1.0  4.0  394.0  2.0   64.0   3.0    9.0  780003000026   \n",
       "780003000027  1.0  7.0  322.0  1.0   57.0   NaN    9.0  780003000027   \n",
       "780003000033  1.0  7.0  583.0  NaN  153.0   1.0   18.0  780003000033   \n",
       "780003000034  NaN  4.0  516.0  NaN   55.0   NaN    2.0  780003000034   \n",
       "\n",
       "                 LATCOD     LONCOD  \n",
       "ID                                  \n",
       "10000500870   34.260200 -86.206200  \n",
       "10000500871   34.262200 -86.204900  \n",
       "10000500879   34.273300 -86.220100  \n",
       "10000500889   34.252700 -86.221806  \n",
       "10000501616   34.289800 -86.193300  \n",
       "...                 ...        ...  \n",
       "780003000024  18.341950 -64.917602  \n",
       "780003000026  18.338742 -64.952483  \n",
       "780003000027  18.354782 -64.899024  \n",
       "780003000033  18.336658 -64.945940  \n",
       "780003000034  18.318230 -64.890311  \n",
       "\n",
       "[100722 rows x 16 columns]"
      ]
     },
     "execution_count": 113,
     "metadata": {},
     "output_type": "execute_result"
    }
   ],
   "source": [
    "# Join the location and data dataframes together\n",
    "schooldata = pd.concat([data, locations], axis=\"columns\", join=\"inner\")\n",
    "schooldata\n"
   ]
  },
  {
   "cell_type": "code",
   "execution_count": 93,
   "id": "136c325e-f07b-41cd-b5e9-9573675d5485",
   "metadata": {},
   "outputs": [
    {
     "data": {
      "text/plain": [
       "Regular school                  91595\n",
       "Alternative Education School     5588\n",
       "Special education school         1946\n",
       "Career and Technical School      1593\n",
       "Name: SCHOOL_TYPE_TEXT, dtype: int64"
      ]
     },
     "execution_count": 93,
     "metadata": {},
     "output_type": "execute_result"
    }
   ],
   "source": [
    "# Get the value counts for the school type column\n",
    "schooldata[\"SCHOOL_TYPE_TEXT\"].value_counts()"
   ]
  },
  {
   "cell_type": "code",
   "execution_count": 114,
   "id": "99f87e68-5766-4965-b040-aabaa79ed96b",
   "metadata": {},
   "outputs": [
    {
     "data": {
      "text/html": [
       "<div>\n",
       "<style scoped>\n",
       "    .dataframe tbody tr th:only-of-type {\n",
       "        vertical-align: middle;\n",
       "    }\n",
       "\n",
       "    .dataframe tbody tr th {\n",
       "        vertical-align: top;\n",
       "    }\n",
       "\n",
       "    .dataframe thead th {\n",
       "        text-align: right;\n",
       "    }\n",
       "</style>\n",
       "<table border=\"1\" class=\"dataframe\">\n",
       "  <thead>\n",
       "    <tr style=\"text-align: right;\">\n",
       "      <th></th>\n",
       "      <th>LSTATE</th>\n",
       "      <th>SCHOOL_LEVEL</th>\n",
       "      <th>SCHOOL_TYPE_TEXT</th>\n",
       "      <th>TOTAL</th>\n",
       "      <th>FTE</th>\n",
       "      <th>STUTERATIO</th>\n",
       "      <th>AM</th>\n",
       "      <th>AS</th>\n",
       "      <th>BL</th>\n",
       "      <th>HP</th>\n",
       "      <th>HI</th>\n",
       "      <th>TR</th>\n",
       "      <th>WH</th>\n",
       "      <th>ID</th>\n",
       "      <th>LATCOD</th>\n",
       "      <th>LONCOD</th>\n",
       "    </tr>\n",
       "    <tr>\n",
       "      <th>ID</th>\n",
       "      <th></th>\n",
       "      <th></th>\n",
       "      <th></th>\n",
       "      <th></th>\n",
       "      <th></th>\n",
       "      <th></th>\n",
       "      <th></th>\n",
       "      <th></th>\n",
       "      <th></th>\n",
       "      <th></th>\n",
       "      <th></th>\n",
       "      <th></th>\n",
       "      <th></th>\n",
       "      <th></th>\n",
       "      <th></th>\n",
       "      <th></th>\n",
       "    </tr>\n",
       "  </thead>\n",
       "  <tbody>\n",
       "    <tr>\n",
       "      <th>10000500870</th>\n",
       "      <td>AL</td>\n",
       "      <td>Middle</td>\n",
       "      <td>Regular school</td>\n",
       "      <td>908.0</td>\n",
       "      <td>42.0</td>\n",
       "      <td>21.62</td>\n",
       "      <td>2.0</td>\n",
       "      <td>4.0</td>\n",
       "      <td>33.0</td>\n",
       "      <td>0.0</td>\n",
       "      <td>469.0</td>\n",
       "      <td>29.0</td>\n",
       "      <td>371.0</td>\n",
       "      <td>10000500870</td>\n",
       "      <td>34.260200</td>\n",
       "      <td>-86.206200</td>\n",
       "    </tr>\n",
       "    <tr>\n",
       "      <th>10000500871</th>\n",
       "      <td>AL</td>\n",
       "      <td>High</td>\n",
       "      <td>Regular school</td>\n",
       "      <td>1606.0</td>\n",
       "      <td>82.0</td>\n",
       "      <td>19.59</td>\n",
       "      <td>1.0</td>\n",
       "      <td>6.0</td>\n",
       "      <td>70.0</td>\n",
       "      <td>0.0</td>\n",
       "      <td>785.0</td>\n",
       "      <td>38.0</td>\n",
       "      <td>706.0</td>\n",
       "      <td>10000500871</td>\n",
       "      <td>34.262200</td>\n",
       "      <td>-86.204900</td>\n",
       "    </tr>\n",
       "    <tr>\n",
       "      <th>10000500879</th>\n",
       "      <td>AL</td>\n",
       "      <td>Middle</td>\n",
       "      <td>Regular school</td>\n",
       "      <td>891.0</td>\n",
       "      <td>41.0</td>\n",
       "      <td>21.73</td>\n",
       "      <td>4.0</td>\n",
       "      <td>7.0</td>\n",
       "      <td>24.0</td>\n",
       "      <td>1.0</td>\n",
       "      <td>481.0</td>\n",
       "      <td>29.0</td>\n",
       "      <td>345.0</td>\n",
       "      <td>10000500879</td>\n",
       "      <td>34.273300</td>\n",
       "      <td>-86.220100</td>\n",
       "    </tr>\n",
       "    <tr>\n",
       "      <th>10000500889</th>\n",
       "      <td>AL</td>\n",
       "      <td>Elementary</td>\n",
       "      <td>Regular school</td>\n",
       "      <td>908.0</td>\n",
       "      <td>49.0</td>\n",
       "      <td>18.53</td>\n",
       "      <td>4.0</td>\n",
       "      <td>4.0</td>\n",
       "      <td>48.0</td>\n",
       "      <td>0.0</td>\n",
       "      <td>497.0</td>\n",
       "      <td>15.0</td>\n",
       "      <td>340.0</td>\n",
       "      <td>10000500889</td>\n",
       "      <td>34.252700</td>\n",
       "      <td>-86.221806</td>\n",
       "    </tr>\n",
       "    <tr>\n",
       "      <th>10000501616</th>\n",
       "      <td>AL</td>\n",
       "      <td>Elementary</td>\n",
       "      <td>Regular school</td>\n",
       "      <td>556.0</td>\n",
       "      <td>30.0</td>\n",
       "      <td>18.53</td>\n",
       "      <td>4.0</td>\n",
       "      <td>2.0</td>\n",
       "      <td>33.0</td>\n",
       "      <td>0.0</td>\n",
       "      <td>288.0</td>\n",
       "      <td>13.0</td>\n",
       "      <td>216.0</td>\n",
       "      <td>10000501616</td>\n",
       "      <td>34.289800</td>\n",
       "      <td>-86.193300</td>\n",
       "    </tr>\n",
       "    <tr>\n",
       "      <th>...</th>\n",
       "      <td>...</td>\n",
       "      <td>...</td>\n",
       "      <td>...</td>\n",
       "      <td>...</td>\n",
       "      <td>...</td>\n",
       "      <td>...</td>\n",
       "      <td>...</td>\n",
       "      <td>...</td>\n",
       "      <td>...</td>\n",
       "      <td>...</td>\n",
       "      <td>...</td>\n",
       "      <td>...</td>\n",
       "      <td>...</td>\n",
       "      <td>...</td>\n",
       "      <td>...</td>\n",
       "      <td>...</td>\n",
       "    </tr>\n",
       "    <tr>\n",
       "      <th>780003000024</th>\n",
       "      <td>VI</td>\n",
       "      <td>Elementary</td>\n",
       "      <td>Regular school</td>\n",
       "      <td>328.0</td>\n",
       "      <td>26.0</td>\n",
       "      <td>12.62</td>\n",
       "      <td>NaN</td>\n",
       "      <td>7.0</td>\n",
       "      <td>254.0</td>\n",
       "      <td>NaN</td>\n",
       "      <td>59.0</td>\n",
       "      <td>2.0</td>\n",
       "      <td>6.0</td>\n",
       "      <td>780003000024</td>\n",
       "      <td>18.341950</td>\n",
       "      <td>-64.917602</td>\n",
       "    </tr>\n",
       "    <tr>\n",
       "      <th>780003000026</th>\n",
       "      <td>VI</td>\n",
       "      <td>Elementary</td>\n",
       "      <td>Regular school</td>\n",
       "      <td>477.0</td>\n",
       "      <td>25.0</td>\n",
       "      <td>19.08</td>\n",
       "      <td>1.0</td>\n",
       "      <td>4.0</td>\n",
       "      <td>394.0</td>\n",
       "      <td>2.0</td>\n",
       "      <td>64.0</td>\n",
       "      <td>3.0</td>\n",
       "      <td>9.0</td>\n",
       "      <td>780003000026</td>\n",
       "      <td>18.338742</td>\n",
       "      <td>-64.952483</td>\n",
       "    </tr>\n",
       "    <tr>\n",
       "      <th>780003000027</th>\n",
       "      <td>VI</td>\n",
       "      <td>Elementary</td>\n",
       "      <td>Regular school</td>\n",
       "      <td>397.0</td>\n",
       "      <td>29.0</td>\n",
       "      <td>13.69</td>\n",
       "      <td>1.0</td>\n",
       "      <td>7.0</td>\n",
       "      <td>322.0</td>\n",
       "      <td>1.0</td>\n",
       "      <td>57.0</td>\n",
       "      <td>NaN</td>\n",
       "      <td>9.0</td>\n",
       "      <td>780003000027</td>\n",
       "      <td>18.354782</td>\n",
       "      <td>-64.899024</td>\n",
       "    </tr>\n",
       "    <tr>\n",
       "      <th>780003000033</th>\n",
       "      <td>VI</td>\n",
       "      <td>Middle</td>\n",
       "      <td>Regular school</td>\n",
       "      <td>763.0</td>\n",
       "      <td>62.0</td>\n",
       "      <td>12.31</td>\n",
       "      <td>1.0</td>\n",
       "      <td>7.0</td>\n",
       "      <td>583.0</td>\n",
       "      <td>NaN</td>\n",
       "      <td>153.0</td>\n",
       "      <td>1.0</td>\n",
       "      <td>18.0</td>\n",
       "      <td>780003000033</td>\n",
       "      <td>18.336658</td>\n",
       "      <td>-64.945940</td>\n",
       "    </tr>\n",
       "    <tr>\n",
       "      <th>780003000034</th>\n",
       "      <td>VI</td>\n",
       "      <td>Middle</td>\n",
       "      <td>Regular school</td>\n",
       "      <td>577.0</td>\n",
       "      <td>47.0</td>\n",
       "      <td>12.28</td>\n",
       "      <td>NaN</td>\n",
       "      <td>4.0</td>\n",
       "      <td>516.0</td>\n",
       "      <td>NaN</td>\n",
       "      <td>55.0</td>\n",
       "      <td>NaN</td>\n",
       "      <td>2.0</td>\n",
       "      <td>780003000034</td>\n",
       "      <td>18.318230</td>\n",
       "      <td>-64.890311</td>\n",
       "    </tr>\n",
       "  </tbody>\n",
       "</table>\n",
       "<p>91595 rows × 16 columns</p>\n",
       "</div>"
      ],
      "text/plain": [
       "             LSTATE SCHOOL_LEVEL SCHOOL_TYPE_TEXT   TOTAL   FTE  STUTERATIO  \\\n",
       "ID                                                                            \n",
       "10000500870      AL       Middle   Regular school   908.0  42.0       21.62   \n",
       "10000500871      AL         High   Regular school  1606.0  82.0       19.59   \n",
       "10000500879      AL       Middle   Regular school   891.0  41.0       21.73   \n",
       "10000500889      AL   Elementary   Regular school   908.0  49.0       18.53   \n",
       "10000501616      AL   Elementary   Regular school   556.0  30.0       18.53   \n",
       "...             ...          ...              ...     ...   ...         ...   \n",
       "780003000024     VI   Elementary   Regular school   328.0  26.0       12.62   \n",
       "780003000026     VI   Elementary   Regular school   477.0  25.0       19.08   \n",
       "780003000027     VI   Elementary   Regular school   397.0  29.0       13.69   \n",
       "780003000033     VI       Middle   Regular school   763.0  62.0       12.31   \n",
       "780003000034     VI       Middle   Regular school   577.0  47.0       12.28   \n",
       "\n",
       "               AM   AS     BL   HP     HI    TR     WH            ID  \\\n",
       "ID                                                                     \n",
       "10000500870   2.0  4.0   33.0  0.0  469.0  29.0  371.0   10000500870   \n",
       "10000500871   1.0  6.0   70.0  0.0  785.0  38.0  706.0   10000500871   \n",
       "10000500879   4.0  7.0   24.0  1.0  481.0  29.0  345.0   10000500879   \n",
       "10000500889   4.0  4.0   48.0  0.0  497.0  15.0  340.0   10000500889   \n",
       "10000501616   4.0  2.0   33.0  0.0  288.0  13.0  216.0   10000501616   \n",
       "...           ...  ...    ...  ...    ...   ...    ...           ...   \n",
       "780003000024  NaN  7.0  254.0  NaN   59.0   2.0    6.0  780003000024   \n",
       "780003000026  1.0  4.0  394.0  2.0   64.0   3.0    9.0  780003000026   \n",
       "780003000027  1.0  7.0  322.0  1.0   57.0   NaN    9.0  780003000027   \n",
       "780003000033  1.0  7.0  583.0  NaN  153.0   1.0   18.0  780003000033   \n",
       "780003000034  NaN  4.0  516.0  NaN   55.0   NaN    2.0  780003000034   \n",
       "\n",
       "                 LATCOD     LONCOD  \n",
       "ID                                  \n",
       "10000500870   34.260200 -86.206200  \n",
       "10000500871   34.262200 -86.204900  \n",
       "10000500879   34.273300 -86.220100  \n",
       "10000500889   34.252700 -86.221806  \n",
       "10000501616   34.289800 -86.193300  \n",
       "...                 ...        ...  \n",
       "780003000024  18.341950 -64.917602  \n",
       "780003000026  18.338742 -64.952483  \n",
       "780003000027  18.354782 -64.899024  \n",
       "780003000033  18.336658 -64.945940  \n",
       "780003000034  18.318230 -64.890311  \n",
       "\n",
       "[91595 rows x 16 columns]"
      ]
     },
     "execution_count": 114,
     "metadata": {},
     "output_type": "execute_result"
    }
   ],
   "source": [
    "# Create a subset of the dataframe that only includes regular schools ensure it was successful by comparing rows in the subset to the value counts above\n",
    "regschools = schooldata.loc[schooldata[\"SCHOOL_TYPE_TEXT\"] == 'Regular school']\n",
    "regschools\n"
   ]
  },
  {
   "cell_type": "markdown",
   "id": "00a498d3-e82a-479a-b3f3-ca3d4a46e787",
   "metadata": {},
   "source": [
    "## Data Cleaning and dealing with nulls"
   ]
  },
  {
   "cell_type": "code",
   "execution_count": 95,
   "id": "eb046205-7c50-431a-93ff-3ce3950d1668",
   "metadata": {},
   "outputs": [
    {
     "data": {
      "text/plain": [
       "LSTATE                  0\n",
       "SCHOOL_LEVEL            0\n",
       "SCHOOL_TYPE_TEXT        0\n",
       "TOTAL                 868\n",
       "FTE                  6653\n",
       "STUTERATIO            532\n",
       "AM                  22158\n",
       "AS                  11894\n",
       "BL                   7059\n",
       "HP                  32405\n",
       "HI                   2257\n",
       "TR                   4972\n",
       "WH                   2368\n",
       "ID                      0\n",
       "LATCOD                  0\n",
       "LONCOD                  0\n",
       "dtype: int64"
      ]
     },
     "execution_count": 95,
     "metadata": {},
     "output_type": "execute_result"
    }
   ],
   "source": [
    "# Checked for nulls. Determined that the Student race columns (AM, AS, BL, HP, HI, TR, WH) can be changed to 0 from null.\n",
    "regschools.isnull().sum()"
   ]
  },
  {
   "cell_type": "code",
   "execution_count": 115,
   "id": "855da8ab-f2f6-4895-9d8d-bc8361bc8158",
   "metadata": {
    "tags": []
   },
   "outputs": [],
   "source": [
    "# Filling some of the columns with 0 where it makes sense\n",
    "nulls_by_race = {'AM': 0, 'AS': 0, 'BL': 0, 'HP': 0, 'HI': 0, 'TR': 0, 'WH': 0}\n",
    "regschools = regschools.fillna(value=nulls_by_race)"
   ]
  },
  {
   "cell_type": "code",
   "execution_count": 97,
   "id": "5cad43d6-8d29-450e-8a24-c9e7524b3e99",
   "metadata": {},
   "outputs": [
    {
     "data": {
      "text/plain": [
       "LSTATE                 0\n",
       "SCHOOL_LEVEL           0\n",
       "SCHOOL_TYPE_TEXT       0\n",
       "TOTAL                868\n",
       "FTE                 6653\n",
       "STUTERATIO           532\n",
       "AM                     0\n",
       "AS                     0\n",
       "BL                     0\n",
       "HP                     0\n",
       "HI                     0\n",
       "TR                     0\n",
       "WH                     0\n",
       "ID                     0\n",
       "LATCOD                 0\n",
       "LONCOD                 0\n",
       "dtype: int64"
      ]
     },
     "execution_count": 97,
     "metadata": {},
     "output_type": "execute_result"
    }
   ],
   "source": [
    "# Verify changes to nulls and prepare to drop na\n",
    "regschools.isnull().sum()"
   ]
  },
  {
   "cell_type": "code",
   "execution_count": 116,
   "id": "c579c438-11e1-417f-b7e4-16c4fd1aa3c0",
   "metadata": {},
   "outputs": [],
   "source": [
    "# Drop remaining nulls\n",
    "#As the purpose of this task is to analyze and evaluate the student-to-teacher ratio, I determined to drop those rows\n",
    "nullregschools = regschools.dropna()"
   ]
  },
  {
   "cell_type": "code",
   "execution_count": 99,
   "id": "f8fb04d0-79d1-4ea1-b995-be79190644b7",
   "metadata": {},
   "outputs": [
    {
     "data": {
      "text/plain": [
       "LSTATE              0\n",
       "SCHOOL_LEVEL        0\n",
       "SCHOOL_TYPE_TEXT    0\n",
       "TOTAL               0\n",
       "FTE                 0\n",
       "STUTERATIO          0\n",
       "AM                  0\n",
       "AS                  0\n",
       "BL                  0\n",
       "HP                  0\n",
       "HI                  0\n",
       "TR                  0\n",
       "WH                  0\n",
       "ID                  0\n",
       "LATCOD              0\n",
       "LONCOD              0\n",
       "dtype: int64"
      ]
     },
     "execution_count": 99,
     "metadata": {},
     "output_type": "execute_result"
    }
   ],
   "source": [
    "# Verifying changes to nulls and no nulls should remain\n",
    "nullregschools.isnull().sum()"
   ]
  },
  {
   "cell_type": "code",
   "execution_count": 100,
   "id": "ace60fb1-46e4-4e9a-8f75-2348785c6ae4",
   "metadata": {
    "tags": []
   },
   "outputs": [
    {
     "data": {
      "text/html": [
       "<div>\n",
       "<style scoped>\n",
       "    .dataframe tbody tr th:only-of-type {\n",
       "        vertical-align: middle;\n",
       "    }\n",
       "\n",
       "    .dataframe tbody tr th {\n",
       "        vertical-align: top;\n",
       "    }\n",
       "\n",
       "    .dataframe thead th {\n",
       "        text-align: right;\n",
       "    }\n",
       "</style>\n",
       "<table border=\"1\" class=\"dataframe\">\n",
       "  <thead>\n",
       "    <tr style=\"text-align: right;\">\n",
       "      <th></th>\n",
       "      <th>LSTATE</th>\n",
       "      <th>SCHOOL_LEVEL</th>\n",
       "      <th>SCHOOL_TYPE_TEXT</th>\n",
       "      <th>TOTAL</th>\n",
       "      <th>FTE</th>\n",
       "      <th>STUTERATIO</th>\n",
       "      <th>AM</th>\n",
       "      <th>AS</th>\n",
       "      <th>BL</th>\n",
       "      <th>HP</th>\n",
       "      <th>HI</th>\n",
       "      <th>TR</th>\n",
       "      <th>WH</th>\n",
       "      <th>ID</th>\n",
       "      <th>LATCOD</th>\n",
       "      <th>LONCOD</th>\n",
       "    </tr>\n",
       "    <tr>\n",
       "      <th>ID</th>\n",
       "      <th></th>\n",
       "      <th></th>\n",
       "      <th></th>\n",
       "      <th></th>\n",
       "      <th></th>\n",
       "      <th></th>\n",
       "      <th></th>\n",
       "      <th></th>\n",
       "      <th></th>\n",
       "      <th></th>\n",
       "      <th></th>\n",
       "      <th></th>\n",
       "      <th></th>\n",
       "      <th></th>\n",
       "      <th></th>\n",
       "      <th></th>\n",
       "    </tr>\n",
       "  </thead>\n",
       "  <tbody>\n",
       "    <tr>\n",
       "      <th>10000500870</th>\n",
       "      <td>AL</td>\n",
       "      <td>Middle</td>\n",
       "      <td>Regular school</td>\n",
       "      <td>908.0</td>\n",
       "      <td>42.0</td>\n",
       "      <td>21.62</td>\n",
       "      <td>2.0</td>\n",
       "      <td>4.0</td>\n",
       "      <td>33.0</td>\n",
       "      <td>0.0</td>\n",
       "      <td>469.0</td>\n",
       "      <td>29.0</td>\n",
       "      <td>371.0</td>\n",
       "      <td>10000500870</td>\n",
       "      <td>34.260200</td>\n",
       "      <td>-86.206200</td>\n",
       "    </tr>\n",
       "    <tr>\n",
       "      <th>10000500871</th>\n",
       "      <td>AL</td>\n",
       "      <td>High</td>\n",
       "      <td>Regular school</td>\n",
       "      <td>1606.0</td>\n",
       "      <td>82.0</td>\n",
       "      <td>19.59</td>\n",
       "      <td>1.0</td>\n",
       "      <td>6.0</td>\n",
       "      <td>70.0</td>\n",
       "      <td>0.0</td>\n",
       "      <td>785.0</td>\n",
       "      <td>38.0</td>\n",
       "      <td>706.0</td>\n",
       "      <td>10000500871</td>\n",
       "      <td>34.262200</td>\n",
       "      <td>-86.204900</td>\n",
       "    </tr>\n",
       "    <tr>\n",
       "      <th>10000500879</th>\n",
       "      <td>AL</td>\n",
       "      <td>Middle</td>\n",
       "      <td>Regular school</td>\n",
       "      <td>891.0</td>\n",
       "      <td>41.0</td>\n",
       "      <td>21.73</td>\n",
       "      <td>4.0</td>\n",
       "      <td>7.0</td>\n",
       "      <td>24.0</td>\n",
       "      <td>1.0</td>\n",
       "      <td>481.0</td>\n",
       "      <td>29.0</td>\n",
       "      <td>345.0</td>\n",
       "      <td>10000500879</td>\n",
       "      <td>34.273300</td>\n",
       "      <td>-86.220100</td>\n",
       "    </tr>\n",
       "    <tr>\n",
       "      <th>10000500889</th>\n",
       "      <td>AL</td>\n",
       "      <td>Elementary</td>\n",
       "      <td>Regular school</td>\n",
       "      <td>908.0</td>\n",
       "      <td>49.0</td>\n",
       "      <td>18.53</td>\n",
       "      <td>4.0</td>\n",
       "      <td>4.0</td>\n",
       "      <td>48.0</td>\n",
       "      <td>0.0</td>\n",
       "      <td>497.0</td>\n",
       "      <td>15.0</td>\n",
       "      <td>340.0</td>\n",
       "      <td>10000500889</td>\n",
       "      <td>34.252700</td>\n",
       "      <td>-86.221806</td>\n",
       "    </tr>\n",
       "    <tr>\n",
       "      <th>10000501616</th>\n",
       "      <td>AL</td>\n",
       "      <td>Elementary</td>\n",
       "      <td>Regular school</td>\n",
       "      <td>556.0</td>\n",
       "      <td>30.0</td>\n",
       "      <td>18.53</td>\n",
       "      <td>4.0</td>\n",
       "      <td>2.0</td>\n",
       "      <td>33.0</td>\n",
       "      <td>0.0</td>\n",
       "      <td>288.0</td>\n",
       "      <td>13.0</td>\n",
       "      <td>216.0</td>\n",
       "      <td>10000501616</td>\n",
       "      <td>34.289800</td>\n",
       "      <td>-86.193300</td>\n",
       "    </tr>\n",
       "    <tr>\n",
       "      <th>...</th>\n",
       "      <td>...</td>\n",
       "      <td>...</td>\n",
       "      <td>...</td>\n",
       "      <td>...</td>\n",
       "      <td>...</td>\n",
       "      <td>...</td>\n",
       "      <td>...</td>\n",
       "      <td>...</td>\n",
       "      <td>...</td>\n",
       "      <td>...</td>\n",
       "      <td>...</td>\n",
       "      <td>...</td>\n",
       "      <td>...</td>\n",
       "      <td>...</td>\n",
       "      <td>...</td>\n",
       "      <td>...</td>\n",
       "    </tr>\n",
       "    <tr>\n",
       "      <th>780003000024</th>\n",
       "      <td>VI</td>\n",
       "      <td>Elementary</td>\n",
       "      <td>Regular school</td>\n",
       "      <td>328.0</td>\n",
       "      <td>26.0</td>\n",
       "      <td>12.62</td>\n",
       "      <td>0.0</td>\n",
       "      <td>7.0</td>\n",
       "      <td>254.0</td>\n",
       "      <td>0.0</td>\n",
       "      <td>59.0</td>\n",
       "      <td>2.0</td>\n",
       "      <td>6.0</td>\n",
       "      <td>780003000024</td>\n",
       "      <td>18.341950</td>\n",
       "      <td>-64.917602</td>\n",
       "    </tr>\n",
       "    <tr>\n",
       "      <th>780003000026</th>\n",
       "      <td>VI</td>\n",
       "      <td>Elementary</td>\n",
       "      <td>Regular school</td>\n",
       "      <td>477.0</td>\n",
       "      <td>25.0</td>\n",
       "      <td>19.08</td>\n",
       "      <td>1.0</td>\n",
       "      <td>4.0</td>\n",
       "      <td>394.0</td>\n",
       "      <td>2.0</td>\n",
       "      <td>64.0</td>\n",
       "      <td>3.0</td>\n",
       "      <td>9.0</td>\n",
       "      <td>780003000026</td>\n",
       "      <td>18.338742</td>\n",
       "      <td>-64.952483</td>\n",
       "    </tr>\n",
       "    <tr>\n",
       "      <th>780003000027</th>\n",
       "      <td>VI</td>\n",
       "      <td>Elementary</td>\n",
       "      <td>Regular school</td>\n",
       "      <td>397.0</td>\n",
       "      <td>29.0</td>\n",
       "      <td>13.69</td>\n",
       "      <td>1.0</td>\n",
       "      <td>7.0</td>\n",
       "      <td>322.0</td>\n",
       "      <td>1.0</td>\n",
       "      <td>57.0</td>\n",
       "      <td>0.0</td>\n",
       "      <td>9.0</td>\n",
       "      <td>780003000027</td>\n",
       "      <td>18.354782</td>\n",
       "      <td>-64.899024</td>\n",
       "    </tr>\n",
       "    <tr>\n",
       "      <th>780003000033</th>\n",
       "      <td>VI</td>\n",
       "      <td>Middle</td>\n",
       "      <td>Regular school</td>\n",
       "      <td>763.0</td>\n",
       "      <td>62.0</td>\n",
       "      <td>12.31</td>\n",
       "      <td>1.0</td>\n",
       "      <td>7.0</td>\n",
       "      <td>583.0</td>\n",
       "      <td>0.0</td>\n",
       "      <td>153.0</td>\n",
       "      <td>1.0</td>\n",
       "      <td>18.0</td>\n",
       "      <td>780003000033</td>\n",
       "      <td>18.336658</td>\n",
       "      <td>-64.945940</td>\n",
       "    </tr>\n",
       "    <tr>\n",
       "      <th>780003000034</th>\n",
       "      <td>VI</td>\n",
       "      <td>Middle</td>\n",
       "      <td>Regular school</td>\n",
       "      <td>577.0</td>\n",
       "      <td>47.0</td>\n",
       "      <td>12.28</td>\n",
       "      <td>0.0</td>\n",
       "      <td>4.0</td>\n",
       "      <td>516.0</td>\n",
       "      <td>0.0</td>\n",
       "      <td>55.0</td>\n",
       "      <td>0.0</td>\n",
       "      <td>2.0</td>\n",
       "      <td>780003000034</td>\n",
       "      <td>18.318230</td>\n",
       "      <td>-64.890311</td>\n",
       "    </tr>\n",
       "  </tbody>\n",
       "</table>\n",
       "<p>84401 rows × 16 columns</p>\n",
       "</div>"
      ],
      "text/plain": [
       "             LSTATE SCHOOL_LEVEL SCHOOL_TYPE_TEXT   TOTAL   FTE  STUTERATIO  \\\n",
       "ID                                                                            \n",
       "10000500870      AL       Middle   Regular school   908.0  42.0       21.62   \n",
       "10000500871      AL         High   Regular school  1606.0  82.0       19.59   \n",
       "10000500879      AL       Middle   Regular school   891.0  41.0       21.73   \n",
       "10000500889      AL   Elementary   Regular school   908.0  49.0       18.53   \n",
       "10000501616      AL   Elementary   Regular school   556.0  30.0       18.53   \n",
       "...             ...          ...              ...     ...   ...         ...   \n",
       "780003000024     VI   Elementary   Regular school   328.0  26.0       12.62   \n",
       "780003000026     VI   Elementary   Regular school   477.0  25.0       19.08   \n",
       "780003000027     VI   Elementary   Regular school   397.0  29.0       13.69   \n",
       "780003000033     VI       Middle   Regular school   763.0  62.0       12.31   \n",
       "780003000034     VI       Middle   Regular school   577.0  47.0       12.28   \n",
       "\n",
       "               AM   AS     BL   HP     HI    TR     WH            ID  \\\n",
       "ID                                                                     \n",
       "10000500870   2.0  4.0   33.0  0.0  469.0  29.0  371.0   10000500870   \n",
       "10000500871   1.0  6.0   70.0  0.0  785.0  38.0  706.0   10000500871   \n",
       "10000500879   4.0  7.0   24.0  1.0  481.0  29.0  345.0   10000500879   \n",
       "10000500889   4.0  4.0   48.0  0.0  497.0  15.0  340.0   10000500889   \n",
       "10000501616   4.0  2.0   33.0  0.0  288.0  13.0  216.0   10000501616   \n",
       "...           ...  ...    ...  ...    ...   ...    ...           ...   \n",
       "780003000024  0.0  7.0  254.0  0.0   59.0   2.0    6.0  780003000024   \n",
       "780003000026  1.0  4.0  394.0  2.0   64.0   3.0    9.0  780003000026   \n",
       "780003000027  1.0  7.0  322.0  1.0   57.0   0.0    9.0  780003000027   \n",
       "780003000033  1.0  7.0  583.0  0.0  153.0   1.0   18.0  780003000033   \n",
       "780003000034  0.0  4.0  516.0  0.0   55.0   0.0    2.0  780003000034   \n",
       "\n",
       "                 LATCOD     LONCOD  \n",
       "ID                                  \n",
       "10000500870   34.260200 -86.206200  \n",
       "10000500871   34.262200 -86.204900  \n",
       "10000500879   34.273300 -86.220100  \n",
       "10000500889   34.252700 -86.221806  \n",
       "10000501616   34.289800 -86.193300  \n",
       "...                 ...        ...  \n",
       "780003000024  18.341950 -64.917602  \n",
       "780003000026  18.338742 -64.952483  \n",
       "780003000027  18.354782 -64.899024  \n",
       "780003000033  18.336658 -64.945940  \n",
       "780003000034  18.318230 -64.890311  \n",
       "\n",
       "[84401 rows x 16 columns]"
      ]
     },
     "execution_count": 100,
     "metadata": {},
     "output_type": "execute_result"
    }
   ],
   "source": [
    "nullregschools"
   ]
  },
  {
   "cell_type": "markdown",
   "id": "94b0396d-1b61-492f-abe8-ed6ad3482f4d",
   "metadata": {},
   "source": [
    "## Plotting to help Clean the Data"
   ]
  },
  {
   "cell_type": "code",
   "execution_count": 101,
   "id": "f33bc272-be71-43dc-9cfb-cde1edcb2fee",
   "metadata": {},
   "outputs": [
    {
     "data": {
      "text/plain": [
       "<Axes: ylabel='Frequency'>"
      ]
     },
     "execution_count": 101,
     "metadata": {},
     "output_type": "execute_result"
    },
    {
     "data": {
      "image/png": "[encoded data removed]",
      "text/plain": [
       "<Figure size 640x480 with 1 Axes>"
      ]
     },
     "metadata": {},
     "output_type": "display_data"
    }
   ],
   "source": [
    "# Plotting a histogram of Total enrolled students and check for outliers\n",
    "nullregschools['TOTAL'].plot.hist()"
   ]
  },
  {
   "cell_type": "code",
   "execution_count": 102,
   "id": "ba8b0e8f-f81f-483e-9fca-0c6d06ccbaf3",
   "metadata": {},
   "outputs": [
    {
     "data": {
      "text/plain": [
       "<Axes: ylabel='Frequency'>"
      ]
     },
     "execution_count": 102,
     "metadata": {},
     "output_type": "execute_result"
    },
    {
     "data": {
      "image/png": "[encoded data removed]",
      "text/plain": [
       "<Figure size 640x480 with 1 Axes>"
      ]
     },
     "metadata": {},
     "output_type": "display_data"
    }
   ],
   "source": [
    "# Plotting a histogram of Total Teachers and check for outliers\n",
    "nullregschools['FTE'].plot.hist()"
   ]
  },
  {
   "cell_type": "code",
   "execution_count": 103,
   "id": "aaf94346-5886-4517-b971-e07ad091bbc1",
   "metadata": {},
   "outputs": [
    {
     "data": {
      "text/plain": [
       "<Axes: ylabel='Frequency'>"
      ]
     },
     "execution_count": 103,
     "metadata": {},
     "output_type": "execute_result"
    },
    {
     "data": {
      "image/png": "[encoded data removed]",
      "text/plain": [
       "<Figure size 640x480 with 1 Axes>"
      ]
     },
     "metadata": {},
     "output_type": "display_data"
    }
   ],
   "source": [
    "# Plotting a histogram of Student Teacher Ratio and check for outliers\n",
    "nullregschools['STUTERATIO'].plot.hist()"
   ]
  },
  {
   "cell_type": "code",
   "execution_count": 104,
   "id": "01b5a36c-7d94-48d0-8ac6-d2fd12e88d59",
   "metadata": {},
   "outputs": [
    {
     "data": {
      "text/plain": [
       "<Axes: ylabel='Frequency'>"
      ]
     },
     "execution_count": 104,
     "metadata": {},
     "output_type": "execute_result"
    },
    {
     "data": {
      "image/png": "[encoded data removed]",
      "text/plain": [
       "<Figure size 640x480 with 1 Axes>"
      ]
     },
     "metadata": {},
     "output_type": "display_data"
    }
   ],
   "source": [
    "# Re-Plotting a histogram of Total enrolled students after removing 0s and outliers above the 99th quantile\n",
    "q_low1 = nullregschools['TOTAL'].quantile(0.05)\n",
    "q_high1 = nullregschools['TOTAL'].quantile(0.99)\n",
    "\n",
    "filtered_1 = nullregschools[(nullregschools['TOTAL'] > 0) & (nullregschools['TOTAL'] <= q_high1)]\n",
    "\n",
    "filtered_1[\"TOTAL\"].plot.hist(bins = 100)"
   ]
  },
  {
   "cell_type": "code",
   "execution_count": 105,
   "id": "f2f104a9-1c7c-44bd-b3ca-694972a5838c",
   "metadata": {},
   "outputs": [
    {
     "data": {
      "text/plain": [
       "<Axes: ylabel='Frequency'>"
      ]
     },
     "execution_count": 105,
     "metadata": {},
     "output_type": "execute_result"
    },
    {
     "data": {
      "image/png": "[encoded data removed]",
      "text/plain": [
       "<Figure size 640x480 with 1 Axes>"
      ]
     },
     "metadata": {},
     "output_type": "display_data"
    }
   ],
   "source": [
    "# Re-Plotting a histogram of Total Teachers after removing 0s and outliers above the 99th quantile\n",
    "q_low2 = nullregschools['FTE'].quantile(0.05)\n",
    "q_high2 = nullregschools['FTE'].quantile(0.99)\n",
    "\n",
    "filtered_2 = nullregschools[(nullregschools['FTE'] > 0) & (nullregschools['FTE'] <= q_high2)]\n",
    "\n",
    "filtered_2[\"FTE\"].plot.hist(bins = 100)\n",
    "\n"
   ]
  },
  {
   "cell_type": "code",
   "execution_count": 106,
   "id": "5099b089-dd01-4015-a089-d7c8c5fe0a50",
   "metadata": {},
   "outputs": [
    {
     "data": {
      "text/plain": [
       "<Axes: ylabel='Frequency'>"
      ]
     },
     "execution_count": 106,
     "metadata": {},
     "output_type": "execute_result"
    },
    {
     "data": {
      "image/png": "[encoded data removed]",
      "text/plain": [
       "<Figure size 640x480 with 1 Axes>"
      ]
     },
     "metadata": {},
     "output_type": "display_data"
    }
   ],
   "source": [
    "# Re-Plotting a histogram of Student Teacher Ratio after removing 0s and outliers above the 99th quantile\n",
    "q_low3 = nullregschools['STUTERATIO'].quantile(0.05)\n",
    "q_high3 = nullregschools['STUTERATIO'].quantile(0.99)\n",
    "\n",
    "filtered_3 = nullregschools[(nullregschools['STUTERATIO'] > 0) & (nullregschools['STUTERATIO'] <= q_high3)]\n",
    "\n",
    "filtered_3[\"STUTERATIO\"].plot.hist(bins = 100)\n",
    "\n"
   ]
  },
  {
   "cell_type": "markdown",
   "id": "be8a5465-1729-4224-8d67-a3bb7d2e36db",
   "metadata": {},
   "source": [
    "## Correlation Plot to Understand Data Relationships"
   ]
  },
  {
   "cell_type": "code",
   "execution_count": 107,
   "id": "eba2a690-97c0-4cbb-8eee-e3f59ea2d7b7",
   "metadata": {},
   "outputs": [
    {
     "name": "stderr",
     "output_type": "stream",
     "text": [
      "C:\\Users\\colmu\\AppData\\Local\\Temp\\ipykernel_38936\\2162352970.py:2: FutureWarning: The default value of numeric_only in DataFrame.corr is deprecated. In a future version, it will default to False. Select only valid columns or specify the value of numeric_only to silence this warning.\n",
      "  correlation_df = nullregschools.corr()\n"
     ]
    },
    {
     "data": {
      "text/plain": [
       "<Axes: >"
      ]
     },
     "execution_count": 107,
     "metadata": {},
     "output_type": "execute_result"
    },
    {
     "data": {
      "image/png": "[encoded data removed]",
      "text/plain": [
       "<Figure size 640x480 with 2 Axes>"
      ]
     },
     "metadata": {},
     "output_type": "display_data"
    }
   ],
   "source": [
    "# Using seaborn to generate a correlation heatmap for the columns in the dataframe\n",
    "correlation_df = nullregschools.corr()\n",
    "correlation_df\n",
    "\n",
    "sns.heatmap(correlation_df, vmin=-1, vmax=1)\n",
    "\n",
    "\n"
   ]
  },
  {
   "cell_type": "markdown",
   "id": "2c7d5297-4123-4304-828f-fab95f809b9e",
   "metadata": {},
   "source": [
    "## Geographic Plots"
   ]
  },
  {
   "cell_type": "code",
   "execution_count": 120,
   "id": "daca7f1a-9d4d-4684-bbd5-24124366f59b",
   "metadata": {
    "tags": []
   },
   "outputs": [
    {
     "data": {
      "text/plain": [
       "CA    9067\n",
       "TX    8352\n",
       "NY    4598\n",
       "IL    3877\n",
       "FL    3685\n",
       "OH    3442\n",
       "MI    2968\n",
       "PA    2857\n",
       "NC    2620\n",
       "NJ    2372\n",
       "MO    2289\n",
       "GA    2270\n",
       "WI    2146\n",
       "WA    2078\n",
       "AZ    2056\n",
       "VA    1875\n",
       "IN    1844\n",
       "TN    1833\n",
       "CO    1801\n",
       "OK    1783\n",
       "MA    1772\n",
       "MN    1756\n",
       "AL    1350\n",
       "LA    1313\n",
       "MD    1312\n",
       "KS    1306\n",
       "IA    1293\n",
       "OR    1228\n",
       "SC    1211\n",
       "KY    1208\n",
       "AR    1044\n",
       "UT    1019\n",
       "NE    1014\n",
       "CT     980\n",
       "MS     888\n",
       "NM     872\n",
       "MT     829\n",
       "PR     804\n",
       "SD     689\n",
       "ID     689\n",
       "NV     683\n",
       "WV     639\n",
       "ME     577\n",
       "ND     542\n",
       "NH     497\n",
       "AK     482\n",
       "WY     348\n",
       "RI     300\n",
       "HI     292\n",
       "VT     289\n",
       "DC     228\n",
       "DE     200\n",
       "GU      43\n",
       "MP      35\n",
       "AS      28\n",
       "VI      22\n",
       "Name: LSTATE, dtype: int64"
      ]
     },
     "execution_count": 120,
     "metadata": {},
     "output_type": "execute_result"
    }
   ],
   "source": [
    "# The number of schools in each state\n",
    "regschools['LSTATE'].value_counts()"
   ]
  },
  {
   "cell_type": "code",
   "execution_count": 121,
   "id": "ea105476-cb58-4e1b-b6e4-48f0dce896ae",
   "metadata": {},
   "outputs": [
    {
     "data": {
      "text/plain": [
       "<Axes: xlabel='LONCOD', ylabel='LATCOD'>"
      ]
     },
     "execution_count": 121,
     "metadata": {},
     "output_type": "execute_result"
    },
    {
     "data": {
      "image/png": "[encoded data removed]",
      "text/plain": [
       "<Figure size 640x480 with 1 Axes>"
      ]
     },
     "metadata": {},
     "output_type": "display_data"
    }
   ],
   "source": [
    "# Plotting only schools from the 50 US states\n",
    "cont_states = regschools[(regschools['LSTATE'].isin(['AK', 'AL', 'AR', 'AZ', 'CA', 'CO', 'CT', 'DC', 'DE', 'FL', 'GA',\n",
    "           'HI', 'IA', 'ID', 'IL', 'IN', 'KS', 'KY', 'LA', 'MA', 'MD', 'ME',\n",
    "           'MI', 'MN', 'MO', 'MS', 'MT', 'NC', 'ND', 'NE', 'NH', 'NJ', 'NM',\n",
    "           'NV', 'NY', 'OH', 'OK', 'OR', 'PA', 'RI', 'SC', 'SD', 'TN', 'TX',\n",
    "           'UT', 'VA', 'VT', 'WA', 'WI', 'WV', 'WY']))]\n",
    "\n",
    "cont_states.plot(kind='scatter', x='LONCOD', y='LATCOD')\n",
    "\n",
    "\n"
   ]
  },
  {
   "cell_type": "code",
   "execution_count": 200,
   "id": "4d40e365-a229-4cb4-bff9-e1047a2ed42e",
   "metadata": {},
   "outputs": [
    {
     "data": {
      "text/plain": [
       "<Axes: xlabel='LONCOD', ylabel='LATCOD'>"
      ]
     },
     "execution_count": 200,
     "metadata": {},
     "output_type": "execute_result"
    },
    {
     "data": {
      "image/png": "[encoded data removed]",
      "text/plain": [
       "<Figure size 1000x800 with 2 Axes>"
      ]
     },
     "metadata": {},
     "output_type": "display_data"
    }
   ],
   "source": [
    "# Plotting only New York schools\n",
    "state = regschools[(regschools['LSTATE'] == 'NY')]\n",
    "\n",
    "state.plot(kind='scatter', x='LONCOD', y='LATCOD', figsize=(10,8), c='STUTERATIO')\n",
    "\n",
    "\n"
   ]
  },
  {
   "cell_type": "markdown",
   "id": "6cfe5be1-7121-47e0-8aa8-7f08a7673ee5",
   "metadata": {},
   "source": [
    "## School Quality Analysis: Student/Teacher Ratios"
   ]
  },
  {
   "cell_type": "code",
   "execution_count": 153,
   "id": "83b36d34-4510-486c-baeb-388a77761482",
   "metadata": {},
   "outputs": [
    {
     "data": {
      "text/plain": [
       "LSTATE\n",
       "CA    22.452403\n",
       "NV    20.807385\n",
       "AK    20.096674\n",
       "FL    19.442753\n",
       "OR    18.677859\n",
       "Name: STUTERATIO, dtype: float64"
      ]
     },
     "execution_count": 153,
     "metadata": {},
     "output_type": "execute_result"
    }
   ],
   "source": [
    "# Creating the averages variable\n",
    "# Showing the highest 5 Student/Teacher ratios\n",
    "averages = nullregschools.groupby('LSTATE')['STUTERATIO'].mean()\n",
    "\n",
    "averages.sort_values(ascending=False).head(5)"
   ]
  },
  {
   "cell_type": "code",
   "execution_count": 154,
   "id": "46b36887-c577-4d19-b1f2-29e297325e39",
   "metadata": {
    "tags": []
   },
   "outputs": [
    {
     "data": {
      "text/plain": [
       "LSTATE\n",
       "ME    10.818175\n",
       "NH    10.830935\n",
       "WY    10.996379\n",
       "ND    11.003494\n",
       "MT    11.189115\n",
       "Name: STUTERATIO, dtype: float64"
      ]
     },
     "execution_count": 154,
     "metadata": {},
     "output_type": "execute_result"
    }
   ],
   "source": [
    "# Showing the lowest 5 Student/Teacher ratios\n",
    "averages.sort_values().head(5)"
   ]
  },
  {
   "cell_type": "code",
   "execution_count": 156,
   "id": "b3025d4b-c522-4812-a845-6c3ffc3010bb",
   "metadata": {
    "tags": []
   },
   "outputs": [
    {
     "data": {
      "text/plain": [
       "LSTATE\n",
       "NY    12.310833\n",
       "Name: STUTERATIO, dtype: float64"
      ]
     },
     "execution_count": 156,
     "metadata": {},
     "output_type": "execute_result"
    }
   ],
   "source": [
    "# Showing the average for New York\n",
    "ny_schools = averages.loc[averages.index == 'NY']\n",
    "ny_schools"
   ]
  },
  {
   "cell_type": "code",
   "execution_count": 157,
   "id": "4506185c-6937-4f27-a89e-3521dcae2075",
   "metadata": {},
   "outputs": [
    {
     "data": {
      "text/plain": [
       "14.968736357830823"
      ]
     },
     "execution_count": 157,
     "metadata": {},
     "output_type": "execute_result"
    }
   ],
   "source": [
    "# The mean of the Student/Teacher Ratio\n",
    "averages.mean()"
   ]
  },
  {
   "cell_type": "code",
   "execution_count": 158,
   "id": "5b45a37e-99d6-45ab-bf2f-6aa088feb2a9",
   "metadata": {},
   "outputs": [
    {
     "data": {
      "text/plain": [
       "2.752859860906925"
      ]
     },
     "execution_count": 158,
     "metadata": {},
     "output_type": "execute_result"
    }
   ],
   "source": [
    "# The standard deviation of the Student/Teacher Ratio\n",
    "averages.std()"
   ]
  },
  {
   "cell_type": "code",
   "execution_count": 164,
   "id": "ce2f701d-fbce-4634-a279-50812760740e",
   "metadata": {},
   "outputs": [
    {
     "data": {
      "text/plain": [
       "<Axes: xlabel='LSTATE'>"
      ]
     },
     "execution_count": 164,
     "metadata": {},
     "output_type": "execute_result"
    },
    {
     "data": {
      "image/png": "[encoded data removed]",
      "text/plain": [
       "<Figure size 640x480 with 1 Axes>"
      ]
     },
     "metadata": {},
     "output_type": "display_data"
    }
   ],
   "source": [
    "# Plotting the states ratios in descending order\n",
    "averages.sort_values(ascending=False).plot.bar()"
   ]
  },
  {
   "cell_type": "code",
   "execution_count": 166,
   "id": "9c6cf9f8-ca2d-46c6-8ac6-38b934569d07",
   "metadata": {},
   "outputs": [
    {
     "data": {
      "text/plain": [
       "<Axes: >"
      ]
     },
     "execution_count": 166,
     "metadata": {},
     "output_type": "execute_result"
    },
    {
     "data": {
      "image/png": "[encoded data removed]",
      "text/plain": [
       "<Figure size 640x480 with 1 Axes>"
      ]
     },
     "metadata": {},
     "output_type": "display_data"
    }
   ],
   "source": [
    "# A boxplot of the Student/Teacher Ratios\n",
    "averages.plot.box()"
   ]
  },
  {
   "cell_type": "code",
   "execution_count": 167,
   "id": "7995326b-69ba-4e77-9a72-85ea5af21e47",
   "metadata": {},
   "outputs": [
    {
     "data": {
      "text/plain": [
       "<Axes: xlabel='LSTATE'>"
      ]
     },
     "execution_count": 167,
     "metadata": {},
     "output_type": "execute_result"
    },
    {
     "data": {
      "image/png": "[encoded data removed]",
      "text/plain": [
       "<Figure size 640x480 with 1 Axes>"
      ]
     },
     "metadata": {},
     "output_type": "display_data"
    }
   ],
   "source": [
    "# Plot the Highest 5 states\n",
    "averages.sort_values(ascending=False).head().plot.bar()"
   ]
  },
  {
   "cell_type": "code",
   "execution_count": 168,
   "id": "c713481a-8309-4af8-8b99-5210277ecfdf",
   "metadata": {},
   "outputs": [
    {
     "data": {
      "text/plain": [
       "<Axes: xlabel='LSTATE'>"
      ]
     },
     "execution_count": 168,
     "metadata": {},
     "output_type": "execute_result"
    },
    {
     "data": {
      "image/png": "[encoded data removed]",
      "text/plain": [
       "<Figure size 640x480 with 1 Axes>"
      ]
     },
     "metadata": {},
     "output_type": "display_data"
    }
   ],
   "source": [
    "# Plot the lowest 5 states\n",
    "averages.sort_values().head().plot.bar()"
   ]
  },
  {
   "cell_type": "code",
   "execution_count": 169,
   "id": "506836d8-96e1-46fe-890a-53dcf9f4fa27",
   "metadata": {},
   "outputs": [
    {
     "data": {
      "text/plain": [
       "LSTATE\n",
       "NY    12.310833\n",
       "Name: STUTERATIO, dtype: float64"
      ]
     },
     "execution_count": 169,
     "metadata": {},
     "output_type": "execute_result"
    }
   ],
   "source": [
    "# Printing NY's Student Teacher Ratios\n",
    "ny_schools = averages.loc[averages.index == 'NY']\n",
    "ny_schools"
   ]
  },
  {
   "cell_type": "markdown",
   "id": "c5483b02-4800-4861-be2c-5df701c7c236",
   "metadata": {},
   "source": [
    "## Summarize your findings from any of the analysis or plots above:\n",
    "* One obvious correlation is that there are more schools where there are greater populations, such as in cities. Another finding I noticed is that in the states with the highest ratios they often only had only one school that stood out as a significantly higher value.\n",
    "* New York had the third highest quantity of schools but was on the lower end of student-teacher ratios.\n",
    "* I believe I made the right choices in how I cleaned the data, even in retrospect.\n",
    "* Illinois and Utah both don't share their teacher counts, thus the student-to-teacher ratio was not available.\n",
    "* Racial analyses could certainly yield some additionally interesting results."
   ]
  }
 ],
 "metadata": {
  "kernelspec": {
   "display_name": "Python 3 (ipykernel)",
   "language": "python",
   "name": "python3"
  },
  "language_info": {
   "codemirror_mode": {
    "name": "ipython",
    "version": 3
   },
   "file_extension": ".py",
   "mimetype": "text/x-python",
   "name": "python",
   "nbconvert_exporter": "python",
   "pygments_lexer": "ipython3",
   "version": "3.10.9"
  }
 },
 "nbformat": 4,
 "nbformat_minor": 5
}
